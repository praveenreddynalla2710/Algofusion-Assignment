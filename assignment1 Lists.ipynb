{
 "cells": [
  {
   "cell_type": "code",
   "execution_count": 2,
   "id": "301a7642",
   "metadata": {},
   "outputs": [
    {
     "data": {
      "text/plain": [
       "[1, 3, 5, 2, 4]"
      ]
     },
     "execution_count": 2,
     "metadata": {},
     "output_type": "execute_result"
    }
   ],
   "source": [
    "list=[1,3,5,2,4]\n",
    "list"
   ]
  },
  {
   "cell_type": "code",
   "execution_count": 3,
   "id": "2474343b",
   "metadata": {},
   "outputs": [],
   "source": [
    "list.append('praveen')\n",
    "#append function will print the element at the end of list"
   ]
  },
  {
   "cell_type": "code",
   "execution_count": 4,
   "id": "90bebead",
   "metadata": {},
   "outputs": [
    {
     "data": {
      "text/plain": [
       "[1, 3, 5, 2, 4, 'praveen']"
      ]
     },
     "execution_count": 4,
     "metadata": {},
     "output_type": "execute_result"
    }
   ],
   "source": [
    "list"
   ]
  },
  {
   "cell_type": "code",
   "execution_count": 5,
   "id": "0c06f5fb",
   "metadata": {},
   "outputs": [
    {
     "data": {
      "text/plain": [
       "[1, 3, 5, 2, 4, 'praveen']"
      ]
     },
     "execution_count": 5,
     "metadata": {},
     "output_type": "execute_result"
    }
   ],
   "source": [
    "new_list=list.copy()\n",
    "#copy method is used to copy the elements in the list\n",
    "new_list"
   ]
  },
  {
   "cell_type": "code",
   "execution_count": 6,
   "id": "31e2788e",
   "metadata": {},
   "outputs": [
    {
     "data": {
      "text/plain": [
       "[]"
      ]
     },
     "execution_count": 6,
     "metadata": {},
     "output_type": "execute_result"
    }
   ],
   "source": [
    "new_list.clear()\n",
    "#clear method will clear all the elements in the list\n",
    "new_list"
   ]
  },
  {
   "cell_type": "code",
   "execution_count": 7,
   "id": "f057ab95",
   "metadata": {},
   "outputs": [
    {
     "data": {
      "text/plain": [
       "[1, 3, 4, 5, 2, 4, 'praveen']"
      ]
     },
     "execution_count": 7,
     "metadata": {},
     "output_type": "execute_result"
    }
   ],
   "source": [
    "list.insert(2, 4)\n",
    "#in insert method the first value is index value and the second value is inserting element\n",
    "#4 is inserted at 2nd index value\n",
    "list"
   ]
  },
  {
   "cell_type": "code",
   "execution_count": 9,
   "id": "7a9dc893",
   "metadata": {},
   "outputs": [
    {
     "data": {
      "text/plain": [
       "1"
      ]
     },
     "execution_count": 9,
     "metadata": {},
     "output_type": "execute_result"
    }
   ],
   "source": [
    "list.count(2)\n",
    "#count method is used to count the particular element given in the count"
   ]
  },
  {
   "cell_type": "code",
   "execution_count": 10,
   "id": "4a8f87b1",
   "metadata": {},
   "outputs": [
    {
     "data": {
      "text/plain": [
       "2"
      ]
     },
     "execution_count": 10,
     "metadata": {},
     "output_type": "execute_result"
    }
   ],
   "source": [
    "list.count(4)"
   ]
  },
  {
   "cell_type": "code",
   "execution_count": 11,
   "id": "20b5f109",
   "metadata": {},
   "outputs": [
    {
     "data": {
      "text/plain": [
       "['true', 3.4, 2]"
      ]
     },
     "execution_count": 11,
     "metadata": {},
     "output_type": "execute_result"
    }
   ],
   "source": [
    "list2=[\"true\",3.4,2]\n",
    "list2"
   ]
  },
  {
   "cell_type": "code",
   "execution_count": 12,
   "id": "39f913ac",
   "metadata": {},
   "outputs": [
    {
     "data": {
      "text/plain": [
       "[1, 3, 4, 5, 2, 4, 'praveen', 'true', 3.4, 2]"
      ]
     },
     "execution_count": 12,
     "metadata": {},
     "output_type": "execute_result"
    }
   ],
   "source": [
    "list.extend(list2)\n",
    "# extend method is used to extend the list by adding list2\n",
    "list"
   ]
  },
  {
   "cell_type": "code",
   "execution_count": 13,
   "id": "2c7755d1",
   "metadata": {},
   "outputs": [
    {
     "data": {
      "text/plain": [
       "2"
      ]
     },
     "execution_count": 13,
     "metadata": {},
     "output_type": "execute_result"
    }
   ],
   "source": [
    "list.index(4)\n",
    "#index method is used to find the value in the index of its 1st occurence"
   ]
  },
  {
   "cell_type": "code",
   "execution_count": 14,
   "id": "36f02beb",
   "metadata": {},
   "outputs": [
    {
     "data": {
      "text/plain": [
       "4"
      ]
     },
     "execution_count": 14,
     "metadata": {},
     "output_type": "execute_result"
    }
   ],
   "source": [
    "list.index(2)"
   ]
  },
  {
   "cell_type": "code",
   "execution_count": 15,
   "id": "edda2735",
   "metadata": {},
   "outputs": [
    {
     "data": {
      "text/plain": [
       "2"
      ]
     },
     "execution_count": 15,
     "metadata": {},
     "output_type": "execute_result"
    }
   ],
   "source": [
    "list.pop()\n",
    "#pop is used to pop the last element of the list"
   ]
  },
  {
   "cell_type": "code",
   "execution_count": 16,
   "id": "b93c3e8f",
   "metadata": {},
   "outputs": [
    {
     "data": {
      "text/plain": [
       "[1, 3, 4, 5, 2, 4, 'praveen', 'true', 3.4]"
      ]
     },
     "execution_count": 16,
     "metadata": {},
     "output_type": "execute_result"
    }
   ],
   "source": [
    "list"
   ]
  },
  {
   "cell_type": "code",
   "execution_count": 17,
   "id": "399af949",
   "metadata": {},
   "outputs": [
    {
     "data": {
      "text/plain": [
       "4"
      ]
     },
     "execution_count": 17,
     "metadata": {},
     "output_type": "execute_result"
    }
   ],
   "source": [
    "list.pop(2)\n",
    "#the index value is given so the element present in that index will be pop"
   ]
  },
  {
   "cell_type": "code",
   "execution_count": 18,
   "id": "31d9801c",
   "metadata": {},
   "outputs": [
    {
     "data": {
      "text/plain": [
       "[1, 3, 5, 2, 4, 'praveen', 'true', 3.4]"
      ]
     },
     "execution_count": 18,
     "metadata": {},
     "output_type": "execute_result"
    }
   ],
   "source": [
    "list"
   ]
  },
  {
   "cell_type": "code",
   "execution_count": 19,
   "id": "59f14d5e",
   "metadata": {},
   "outputs": [],
   "source": [
    "list.remove(\"true\")\n",
    "#remove method deletes the object which is given in the index "
   ]
  },
  {
   "cell_type": "code",
   "execution_count": 20,
   "id": "08c13bdc",
   "metadata": {},
   "outputs": [
    {
     "data": {
      "text/plain": [
       "[1, 3, 5, 2, 4, 'praveen', 3.4]"
      ]
     },
     "execution_count": 20,
     "metadata": {},
     "output_type": "execute_result"
    }
   ],
   "source": [
    "list"
   ]
  },
  {
   "cell_type": "code",
   "execution_count": 21,
   "id": "87f56918",
   "metadata": {},
   "outputs": [
    {
     "data": {
      "text/plain": [
       "[3.4, 'praveen', 4, 2, 5, 3, 1]"
      ]
     },
     "execution_count": 21,
     "metadata": {},
     "output_type": "execute_result"
    }
   ],
   "source": [
    "list.reverse()\n",
    "#reverse method is used to reverse the objects inside the list\n",
    "list"
   ]
  },
  {
   "cell_type": "code",
   "execution_count": 23,
   "id": "9ee48411",
   "metadata": {},
   "outputs": [
    {
     "data": {
      "text/plain": [
       "['praveen', 4, 2, 5, 3, 1]"
      ]
     },
     "execution_count": 23,
     "metadata": {},
     "output_type": "execute_result"
    }
   ],
   "source": [
    "list.remove(3.4)\n",
    "list"
   ]
  },
  {
   "cell_type": "code",
   "execution_count": 25,
   "id": "ce540b89",
   "metadata": {},
   "outputs": [
    {
     "data": {
      "text/plain": [
       "[4, 2, 5, 3, 1]"
      ]
     },
     "execution_count": 25,
     "metadata": {},
     "output_type": "execute_result"
    }
   ],
   "source": [
    "list.remove('praveen')\n",
    "list"
   ]
  },
  {
   "cell_type": "code",
   "execution_count": 26,
   "id": "73f7e225",
   "metadata": {},
   "outputs": [],
   "source": [
    "list.sort()\n",
    "#sort method is used to arrange the objects in ascending order"
   ]
  },
  {
   "cell_type": "code",
   "execution_count": 27,
   "id": "b79d8299",
   "metadata": {},
   "outputs": [
    {
     "data": {
      "text/plain": [
       "[1, 2, 3, 4, 5]"
      ]
     },
     "execution_count": 27,
     "metadata": {},
     "output_type": "execute_result"
    }
   ],
   "source": [
    "list"
   ]
  },
  {
   "cell_type": "code",
   "execution_count": 29,
   "id": "7104b2fa",
   "metadata": {},
   "outputs": [],
   "source": [
    "list1=min(list)"
   ]
  },
  {
   "cell_type": "code",
   "execution_count": 30,
   "id": "cbb668eb",
   "metadata": {},
   "outputs": [
    {
     "data": {
      "text/plain": [
       "1"
      ]
     },
     "execution_count": 30,
     "metadata": {},
     "output_type": "execute_result"
    }
   ],
   "source": [
    "list1"
   ]
  },
  {
   "cell_type": "code",
   "execution_count": 31,
   "id": "8c78a055",
   "metadata": {},
   "outputs": [
    {
     "data": {
      "text/plain": [
       "5"
      ]
     },
     "execution_count": 31,
     "metadata": {},
     "output_type": "execute_result"
    }
   ],
   "source": [
    "list1=max(list)\n",
    "list1"
   ]
  },
  {
   "cell_type": "code",
   "execution_count": null,
   "id": "cdb348c7",
   "metadata": {},
   "outputs": [],
   "source": []
  }
 ],
 "metadata": {
  "kernelspec": {
   "display_name": "Python 3 (ipykernel)",
   "language": "python",
   "name": "python3"
  },
  "language_info": {
   "codemirror_mode": {
    "name": "ipython",
    "version": 3
   },
   "file_extension": ".py",
   "mimetype": "text/x-python",
   "name": "python",
   "nbconvert_exporter": "python",
   "pygments_lexer": "ipython3",
   "version": "3.10.9"
  }
 },
 "nbformat": 4,
 "nbformat_minor": 5
}
