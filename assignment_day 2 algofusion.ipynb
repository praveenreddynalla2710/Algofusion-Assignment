{
 "cells": [
  {
   "cell_type": "code",
   "execution_count": 6,
   "id": "735f3fd4",
   "metadata": {},
   "outputs": [
    {
     "name": "stdout",
     "output_type": "stream",
     "text": [
      "global warming the phenomenon of increasing average air temperatures near the surface of Earth over the past one to two centuries Climate scientists have since the mid20th century gathered detailed observations of various weather phenomena such as temperatures precipitation and storms and of related influences on climate such as ocean currents and the atmosphere’s chemical composition These data indicate that Earth’s climate has changed over almost every conceivable timescale since the beginning of geologic time and that human activities since at least the beginning of the Industrial Revolution have a growing influence over the pace and extent of presentday climate change\n"
     ]
    }
   ],
   "source": [
    "import string\n",
    "\n",
    "def remove_punc(str1):\n",
    "    str2 = str1.translate(str.maketrans('', '', string.punctuation))\n",
    "    return str2\n",
    "\n",
    "str1 = \"global warming, the phenomenon of increasing average air temperatures near the surface of Earth over the past one to two centuries. Climate scientists have since the mid-20th century gathered detailed observations of various weather phenomena (such as temperatures, precipitation, and storms) and of related influences on climate (such as ocean currents and the atmosphere’s chemical composition). These data indicate that Earth’s climate has changed over almost every conceivable timescale since the beginning of geologic time and that human activities since at least the beginning of the Industrial Revolution have a growing influence over the pace and extent of present-day climate change\"\n",
    "str2 = remove_punc(str1)\n",
    "print(str2)"
   ]
  },
  {
   "cell_type": "code",
   "execution_count": 7,
   "id": "d04213c4",
   "metadata": {},
   "outputs": [
    {
     "name": "stdout",
     "output_type": "stream",
     "text": [
      "['global', 'warming', 'the', 'phenomenon', 'of', 'increasing', 'average', 'air', 'temperatures', 'near', 'the', 'surface', 'of', 'Earth', 'over', 'the', 'past', 'one', 'to', 'two', 'centuries', 'Climate', 'scientists', 'have', 'since', 'the', 'mid20th', 'century', 'gathered', 'detailed', 'observations', 'of', 'various', 'weather', 'phenomena', 'such', 'as', 'temperatures', 'precipitation', 'and', 'storms', 'and', 'of', 'related', 'influences', 'on', 'climate', 'such', 'as', 'ocean', 'currents', 'and', 'the', 'atmosphere’s', 'chemical', 'composition', 'These', 'data', 'indicate', 'that', 'Earth’s', 'climate', 'has', 'changed', 'over', 'almost', 'every', 'conceivable', 'timescale', 'since', 'the', 'beginning', 'of', 'geologic', 'time', 'and', 'that', 'human', 'activities', 'since', 'at', 'least', 'the', 'beginning', 'of', 'the', 'Industrial', 'Revolution', 'have', 'a', 'growing', 'influence', 'over', 'the', 'pace', 'and', 'extent', 'of', 'presentday', 'climate', 'change']\n"
     ]
    }
   ],
   "source": [
    "def word_split(str2):\n",
    "    L1 = str2.split()\n",
    "    return L1\n",
    "word_list = word_split(str2)\n",
    "print(word_list)"
   ]
  },
  {
   "cell_type": "code",
   "execution_count": 8,
   "id": "a6d8bf1a",
   "metadata": {},
   "outputs": [
    {
     "name": "stdout",
     "output_type": "stream",
     "text": [
      "Counter({'the': 9, 'of': 7, 'and': 5, 'over': 3, 'since': 3, 'climate': 3, 'temperatures': 2, 'have': 2, 'such': 2, 'as': 2, 'that': 2, 'beginning': 2, 'global': 1, 'warming': 1, 'phenomenon': 1, 'increasing': 1, 'average': 1, 'air': 1, 'near': 1, 'surface': 1, 'Earth': 1, 'past': 1, 'one': 1, 'to': 1, 'two': 1, 'centuries': 1, 'Climate': 1, 'scientists': 1, 'mid20th': 1, 'century': 1, 'gathered': 1, 'detailed': 1, 'observations': 1, 'various': 1, 'weather': 1, 'phenomena': 1, 'precipitation': 1, 'storms': 1, 'related': 1, 'influences': 1, 'on': 1, 'ocean': 1, 'currents': 1, 'atmosphere’s': 1, 'chemical': 1, 'composition': 1, 'These': 1, 'data': 1, 'indicate': 1, 'Earth’s': 1, 'has': 1, 'changed': 1, 'almost': 1, 'every': 1, 'conceivable': 1, 'timescale': 1, 'geologic': 1, 'time': 1, 'human': 1, 'activities': 1, 'at': 1, 'least': 1, 'Industrial': 1, 'Revolution': 1, 'a': 1, 'growing': 1, 'influence': 1, 'pace': 1, 'extent': 1, 'presentday': 1, 'change': 1})\n"
     ]
    }
   ],
   "source": [
    "from collections import Counter\n",
    "\n",
    "def word_dict(L1):\n",
    "    d1 = Counter(L1)\n",
    "    return d1\n",
    "word_dictionary = word_dict(word_list)\n",
    "print(word_dictionary)"
   ]
  },
  {
   "cell_type": "code",
   "execution_count": 9,
   "id": "7c624d5a",
   "metadata": {},
   "outputs": [
    {
     "name": "stdout",
     "output_type": "stream",
     "text": [
      "          word  No of occurrences\n",
      "0       global                  1\n",
      "1      warming                  1\n",
      "2          the                  9\n",
      "3   phenomenon                  1\n",
      "4           of                  7\n",
      "..         ...                ...\n",
      "66   influence                  1\n",
      "67        pace                  1\n",
      "68      extent                  1\n",
      "69  presentday                  1\n",
      "70      change                  1\n",
      "\n",
      "[71 rows x 2 columns]\n"
     ]
    }
   ],
   "source": [
    "import pandas as pd\n",
    "\n",
    "def word_freq_table(d1):\n",
    "    # Create a DataFrame from the dictionary\n",
    "    df = pd.DataFrame(list(d1.items()), columns=[\"word\", \"No of occurrences\"])\n",
    "    return df\n",
    "df = word_freq_table(word_dictionary)\n",
    "print(df)"
   ]
  },
  {
   "cell_type": "code",
   "execution_count": 10,
   "id": "eb80e6bf",
   "metadata": {},
   "outputs": [
    {
     "data": {
      "text/html": [
       "<div>\n",
       "<style scoped>\n",
       "    .dataframe tbody tr th:only-of-type {\n",
       "        vertical-align: middle;\n",
       "    }\n",
       "\n",
       "    .dataframe tbody tr th {\n",
       "        vertical-align: top;\n",
       "    }\n",
       "\n",
       "    .dataframe thead th {\n",
       "        text-align: right;\n",
       "    }\n",
       "</style>\n",
       "<table border=\"1\" class=\"dataframe\">\n",
       "  <thead>\n",
       "    <tr style=\"text-align: right;\">\n",
       "      <th></th>\n",
       "      <th>word</th>\n",
       "      <th>No of occurrences</th>\n",
       "    </tr>\n",
       "  </thead>\n",
       "  <tbody>\n",
       "    <tr>\n",
       "      <th>0</th>\n",
       "      <td>global</td>\n",
       "      <td>1</td>\n",
       "    </tr>\n",
       "    <tr>\n",
       "      <th>1</th>\n",
       "      <td>warming</td>\n",
       "      <td>1</td>\n",
       "    </tr>\n",
       "    <tr>\n",
       "      <th>2</th>\n",
       "      <td>the</td>\n",
       "      <td>9</td>\n",
       "    </tr>\n",
       "    <tr>\n",
       "      <th>3</th>\n",
       "      <td>phenomenon</td>\n",
       "      <td>1</td>\n",
       "    </tr>\n",
       "    <tr>\n",
       "      <th>4</th>\n",
       "      <td>of</td>\n",
       "      <td>7</td>\n",
       "    </tr>\n",
       "    <tr>\n",
       "      <th>...</th>\n",
       "      <td>...</td>\n",
       "      <td>...</td>\n",
       "    </tr>\n",
       "    <tr>\n",
       "      <th>66</th>\n",
       "      <td>influence</td>\n",
       "      <td>1</td>\n",
       "    </tr>\n",
       "    <tr>\n",
       "      <th>67</th>\n",
       "      <td>pace</td>\n",
       "      <td>1</td>\n",
       "    </tr>\n",
       "    <tr>\n",
       "      <th>68</th>\n",
       "      <td>extent</td>\n",
       "      <td>1</td>\n",
       "    </tr>\n",
       "    <tr>\n",
       "      <th>69</th>\n",
       "      <td>presentday</td>\n",
       "      <td>1</td>\n",
       "    </tr>\n",
       "    <tr>\n",
       "      <th>70</th>\n",
       "      <td>change</td>\n",
       "      <td>1</td>\n",
       "    </tr>\n",
       "  </tbody>\n",
       "</table>\n",
       "<p>71 rows × 2 columns</p>\n",
       "</div>"
      ],
      "text/plain": [
       "          word  No of occurrences\n",
       "0       global                  1\n",
       "1      warming                  1\n",
       "2          the                  9\n",
       "3   phenomenon                  1\n",
       "4           of                  7\n",
       "..         ...                ...\n",
       "66   influence                  1\n",
       "67        pace                  1\n",
       "68      extent                  1\n",
       "69  presentday                  1\n",
       "70      change                  1\n",
       "\n",
       "[71 rows x 2 columns]"
      ]
     },
     "execution_count": 10,
     "metadata": {},
     "output_type": "execute_result"
    }
   ],
   "source": [
    "df"
   ]
  },
  {
   "cell_type": "code",
   "execution_count": null,
   "id": "5737b4b0",
   "metadata": {},
   "outputs": [],
   "source": []
  }
 ],
 "metadata": {
  "kernelspec": {
   "display_name": "Python 3 (ipykernel)",
   "language": "python",
   "name": "python3"
  },
  "language_info": {
   "codemirror_mode": {
    "name": "ipython",
    "version": 3
   },
   "file_extension": ".py",
   "mimetype": "text/x-python",
   "name": "python",
   "nbconvert_exporter": "python",
   "pygments_lexer": "ipython3",
   "version": "3.10.9"
  }
 },
 "nbformat": 4,
 "nbformat_minor": 5
}
