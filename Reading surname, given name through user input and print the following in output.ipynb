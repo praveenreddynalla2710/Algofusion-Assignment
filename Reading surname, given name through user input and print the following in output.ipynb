{
 "cells": [
  {
   "cell_type": "code",
   "execution_count": 13,
   "id": "b07d079a",
   "metadata": {},
   "outputs": [
    {
     "name": "stdout",
     "output_type": "stream",
     "text": [
      "enter the given namePraveen\n",
      "enter surnameNalla\n"
     ]
    },
    {
     "data": {
      "text/plain": [
       "'Praveen Nalla'"
      ]
     },
     "execution_count": 13,
     "metadata": {},
     "output_type": "execute_result"
    }
   ],
   "source": [
    "given_name=input('enter the given name')\n",
    "sur_name=input('enter surname')\n",
    "\n",
    "#print the given name with sur name last\n",
    "full_name=given_name+' '+sur_name\n",
    "full_name"
   ]
  },
  {
   "cell_type": "code",
   "execution_count": 14,
   "id": "62432cd2",
   "metadata": {},
   "outputs": [
    {
     "data": {
      "text/plain": [
       "'N. Praveen'"
      ]
     },
     "execution_count": 14,
     "metadata": {},
     "output_type": "execute_result"
    }
   ],
   "source": [
    "#short name\n",
    "short_name=sur_name[0].upper()+\". \"+given_name\n",
    "\n",
    "short_name"
   ]
  },
  {
   "cell_type": "code",
   "execution_count": 10,
   "id": "cf227f49",
   "metadata": {},
   "outputs": [
    {
     "data": {
      "text/plain": [
       "'Praveen'"
      ]
     },
     "execution_count": 10,
     "metadata": {},
     "output_type": "execute_result"
    }
   ],
   "source": [
    "#limited name\n",
    "limited_given_name=given_name[:15]\n",
    "#range of characters is lessthan 15\n",
    "limited_given_name"
   ]
  },
  {
   "cell_type": "code",
   "execution_count": 11,
   "id": "cc0a5074",
   "metadata": {},
   "outputs": [
    {
     "name": "stdout",
     "output_type": "stream",
     "text": [
      "enter namePraveen Reddy Nalla\n"
     ]
    },
    {
     "data": {
      "text/plain": [
       "'Praveen Reddy Nalla'"
      ]
     },
     "execution_count": 11,
     "metadata": {},
     "output_type": "execute_result"
    }
   ],
   "source": [
    "given_name=input('enter name')\n",
    "given_name"
   ]
  },
  {
   "cell_type": "code",
   "execution_count": 12,
   "id": "e9876cdd",
   "metadata": {},
   "outputs": [
    {
     "data": {
      "text/plain": [
       "'Praveen Reddy N'"
      ]
     },
     "execution_count": 12,
     "metadata": {},
     "output_type": "execute_result"
    }
   ],
   "source": [
    "limited_given_name=given_name[:15]\n",
    "limited_given_name"
   ]
  },
  {
   "cell_type": "code",
   "execution_count": null,
   "id": "5102472a",
   "metadata": {},
   "outputs": [],
   "source": []
  }
 ],
 "metadata": {
  "kernelspec": {
   "display_name": "Python 3 (ipykernel)",
   "language": "python",
   "name": "python3"
  },
  "language_info": {
   "codemirror_mode": {
    "name": "ipython",
    "version": 3
   },
   "file_extension": ".py",
   "mimetype": "text/x-python",
   "name": "python",
   "nbconvert_exporter": "python",
   "pygments_lexer": "ipython3",
   "version": "3.10.9"
  }
 },
 "nbformat": 4,
 "nbformat_minor": 5
}
