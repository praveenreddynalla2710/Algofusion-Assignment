{
 "cells": [
  {
   "cell_type": "code",
   "execution_count": 1,
   "id": "56847177",
   "metadata": {},
   "outputs": [
    {
     "data": {
      "text/plain": [
       "{'car': 'fortuner', 'brand': 'toyata', 'year': 2012}"
      ]
     },
     "execution_count": 1,
     "metadata": {},
     "output_type": "execute_result"
    }
   ],
   "source": [
    "dict={'car':'fortuner','brand':'toyata','year':2012}\n",
    "dict"
   ]
  },
  {
   "cell_type": "code",
   "execution_count": 2,
   "id": "2e50c315",
   "metadata": {},
   "outputs": [],
   "source": [
    "dict1=len(dict)\n",
    "#gives the no of key value pairs in the list"
   ]
  },
  {
   "cell_type": "code",
   "execution_count": 3,
   "id": "4c3476c5",
   "metadata": {},
   "outputs": [
    {
     "data": {
      "text/plain": [
       "3"
      ]
     },
     "execution_count": 3,
     "metadata": {},
     "output_type": "execute_result"
    }
   ],
   "source": [
    "dict1"
   ]
  },
  {
   "cell_type": "code",
   "execution_count": 4,
   "id": "bd3d4f00",
   "metadata": {},
   "outputs": [],
   "source": [
    "dict1=dict.keys()\n",
    "#gives the keys present in the list"
   ]
  },
  {
   "cell_type": "code",
   "execution_count": 5,
   "id": "f1b67c23",
   "metadata": {},
   "outputs": [
    {
     "data": {
      "text/plain": [
       "dict_keys(['car', 'brand', 'year'])"
      ]
     },
     "execution_count": 5,
     "metadata": {},
     "output_type": "execute_result"
    }
   ],
   "source": [
    "dict1"
   ]
  },
  {
   "cell_type": "code",
   "execution_count": 6,
   "id": "9d9a88af",
   "metadata": {},
   "outputs": [
    {
     "data": {
      "text/plain": [
       "dict_values(['fortuner', 'toyata', 2012])"
      ]
     },
     "execution_count": 6,
     "metadata": {},
     "output_type": "execute_result"
    }
   ],
   "source": [
    "dict1=dict.values()\n",
    "#gives the values present in the list\n",
    "dict1"
   ]
  },
  {
   "cell_type": "code",
   "execution_count": 7,
   "id": "8cbbaf6d",
   "metadata": {},
   "outputs": [
    {
     "data": {
      "text/plain": [
       "'toyata'"
      ]
     },
     "execution_count": 7,
     "metadata": {},
     "output_type": "execute_result"
    }
   ],
   "source": [
    "dict.get(\"brand\")\n",
    "#getting the value of the key given in the brackets"
   ]
  },
  {
   "cell_type": "code",
   "execution_count": 8,
   "id": "ed846928",
   "metadata": {},
   "outputs": [
    {
     "data": {
      "text/plain": [
       "dict_items([('car', 'fortuner'), ('brand', 'toyata'), ('year', 2012)])"
      ]
     },
     "execution_count": 8,
     "metadata": {},
     "output_type": "execute_result"
    }
   ],
   "source": [
    "dict1=dict.items()\n",
    "#getting the key values pairs in the dictonary as tuples in the list\n",
    "dict1"
   ]
  },
  {
   "cell_type": "code",
   "execution_count": 9,
   "id": "1f17ee4f",
   "metadata": {},
   "outputs": [
    {
     "data": {
      "text/plain": [
       "{'car': 'fortuner', 'brand': 'toyata', 'year': 2016}"
      ]
     },
     "execution_count": 9,
     "metadata": {},
     "output_type": "execute_result"
    }
   ],
   "source": [
    "dict[\"year\"]=2016\n",
    "#changing of the values \n",
    "dict"
   ]
  },
  {
   "cell_type": "code",
   "execution_count": 12,
   "id": "ee1ef025",
   "metadata": {},
   "outputs": [],
   "source": [
    "dict.update({'car':'glanza'})\n",
    "#used to update the values for the keys present in the dictonary and also used to add the other key value pairs to the dictonary"
   ]
  },
  {
   "cell_type": "code",
   "execution_count": 14,
   "id": "11a2e4c6",
   "metadata": {},
   "outputs": [],
   "source": [
    "dict.update({'year':2020})"
   ]
  },
  {
   "cell_type": "code",
   "execution_count": 15,
   "id": "86f6175a",
   "metadata": {},
   "outputs": [
    {
     "data": {
      "text/plain": [
       "{'car': 'glanza', 'brand': 'toyata', 'year': 2020}"
      ]
     },
     "execution_count": 15,
     "metadata": {},
     "output_type": "execute_result"
    }
   ],
   "source": [
    "dict"
   ]
  },
  {
   "cell_type": "code",
   "execution_count": 16,
   "id": "8340f585",
   "metadata": {},
   "outputs": [
    {
     "data": {
      "text/plain": [
       "{'car': 'glanza', 'brand': 'toyata', 'year': 2020, 'color': 'black'}"
      ]
     },
     "execution_count": 16,
     "metadata": {},
     "output_type": "execute_result"
    }
   ],
   "source": [
    "dict.update({'color':'black'})\n",
    "dict\n",
    "#new key value pair is updated"
   ]
  },
  {
   "cell_type": "code",
   "execution_count": 18,
   "id": "f64444d6",
   "metadata": {},
   "outputs": [
    {
     "data": {
      "text/plain": [
       "{'car': 'glanza', 'year': 2020, 'color': 'black'}"
      ]
     },
     "execution_count": 18,
     "metadata": {},
     "output_type": "execute_result"
    }
   ],
   "source": [
    "dict.pop('brand')\n",
    "dict\n",
    "#the item is deleted in which the index of key value pair is given in the brackets"
   ]
  },
  {
   "cell_type": "code",
   "execution_count": 19,
   "id": "7601daf9",
   "metadata": {},
   "outputs": [
    {
     "data": {
      "text/plain": [
       "{'car': 'glanza', 'year': 2020}"
      ]
     },
     "execution_count": 19,
     "metadata": {},
     "output_type": "execute_result"
    }
   ],
   "source": [
    "dict.popitem()\n",
    "dict\n",
    "#deletes the last key value pair in the dictonary"
   ]
  },
  {
   "cell_type": "code",
   "execution_count": 20,
   "id": "f1c22765",
   "metadata": {},
   "outputs": [
    {
     "data": {
      "text/plain": [
       "{}"
      ]
     },
     "execution_count": 20,
     "metadata": {},
     "output_type": "execute_result"
    }
   ],
   "source": [
    "dict.clear()\n",
    "dict\n",
    "#clear all the key value pairs in the dictonary"
   ]
  },
  {
   "cell_type": "code",
   "execution_count": null,
   "id": "7186836a",
   "metadata": {},
   "outputs": [],
   "source": []
  }
 ],
 "metadata": {
  "kernelspec": {
   "display_name": "Python 3 (ipykernel)",
   "language": "python",
   "name": "python3"
  },
  "language_info": {
   "codemirror_mode": {
    "name": "ipython",
    "version": 3
   },
   "file_extension": ".py",
   "mimetype": "text/x-python",
   "name": "python",
   "nbconvert_exporter": "python",
   "pygments_lexer": "ipython3",
   "version": "3.10.9"
  }
 },
 "nbformat": 4,
 "nbformat_minor": 5
}
