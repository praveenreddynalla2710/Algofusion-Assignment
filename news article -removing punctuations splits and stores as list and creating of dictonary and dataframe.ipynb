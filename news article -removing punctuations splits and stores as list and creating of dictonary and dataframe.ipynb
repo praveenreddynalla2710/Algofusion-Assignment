{
 "cells": [
  {
   "cell_type": "code",
   "execution_count": 2,
   "id": "db04d231",
   "metadata": {},
   "outputs": [
    {
     "data": {
      "text/plain": [
       "'Chandrayaan 3 spacecraft is the 3 rd lunar exploration expedition, outlined by the Indian Space Research Organisation (ISRO). ISRO planned this spacecraft to exhibit India’s soft landing proficiency on a stellar body. It will only consist of a rover and lander and will communicate to the earth via an orbiter from Chandrayaan.'"
      ]
     },
     "execution_count": 2,
     "metadata": {},
     "output_type": "execute_result"
    }
   ],
   "source": [
    "import pandas as pd\n",
    "import string\n",
    "#step1 taking a content from news\n",
    "paragraph=\"Chandrayaan 3 spacecraft is the 3 rd lunar exploration expedition, outlined by the Indian Space Research Organisation (ISRO). ISRO planned this spacecraft to exhibit India’s soft landing proficiency on a stellar body. It will only consist of a rover and lander and will communicate to the earth via an orbiter from Chandrayaan.\"\n",
    "paragraph"
   ]
  },
  {
   "cell_type": "code",
   "execution_count": 4,
   "id": "a0d72178",
   "metadata": {},
   "outputs": [
    {
     "data": {
      "text/plain": [
       "'Chandrayaan 3 spacecraft is the 3 rd lunar exploration expedition outlined by the Indian Space Research Organisation ISRO ISRO planned this spacecraft to exhibit India’s soft landing proficiency on a stellar body It will only consist of a rover and lander and will communicate to the earth via an orbiter from Chandrayaan'"
      ]
     },
     "execution_count": 4,
     "metadata": {},
     "output_type": "execute_result"
    }
   ],
   "source": [
    "#step2 remove punctuation marks and store result as str1\n",
    "translator = str.maketrans(\"\", \"\", string.punctuation)\n",
    "str1 = paragraph.translate(translator)\n",
    "str1"
   ]
  },
  {
   "cell_type": "code",
   "execution_count": 9,
   "id": "89f21778",
   "metadata": {},
   "outputs": [
    {
     "name": "stdout",
     "output_type": "stream",
     "text": [
      "['Chandrayaan', '3', 'spacecraft', 'is', 'the', '3', 'rd', 'lunar', 'exploration', 'expedition', 'outlined', 'by', 'the', 'Indian', 'Space', 'Research', 'Organisation', 'ISRO', 'ISRO', 'planned', 'this', 'spacecraft', 'to', 'exhibit', 'India’s', 'soft', 'landing', 'proficiency', 'on', 'a', 'stellar', 'body', 'It', 'will', 'only', 'consist', 'of', 'a', 'rover', 'and', 'lander', 'and', 'will', 'communicate', 'to', 'the', 'earth', 'via', 'an', 'orbiter', 'from', 'Chandrayaan']\n"
     ]
    }
   ],
   "source": [
    "#step3 splits the str1 as words and stores as a list\n",
    "list1=str1.split()\n",
    "print(list1)"
   ]
  },
  {
   "cell_type": "code",
   "execution_count": 8,
   "id": "95c9e2ad",
   "metadata": {},
   "outputs": [
    {
     "name": "stdout",
     "output_type": "stream",
     "text": [
      "{'Chandrayaan': 2, '3': 2, 'spacecraft': 2, 'is': 1, 'the': 3, 'rd': 1, 'lunar': 1, 'exploration': 1, 'expedition': 1, 'outlined': 1, 'by': 1, 'Indian': 1, 'Space': 1, 'Research': 1, 'Organisation': 1, 'ISRO': 2, 'planned': 1, 'this': 1, 'to': 2, 'exhibit': 1, 'India’s': 1, 'soft': 1, 'landing': 1, 'proficiency': 1, 'on': 1, 'a': 2, 'stellar': 1, 'body': 1, 'It': 1, 'will': 2, 'only': 1, 'consist': 1, 'of': 1, 'rover': 1, 'and': 2, 'lander': 1, 'communicate': 1, 'earth': 1, 'via': 1, 'an': 1, 'orbiter': 1, 'from': 1}\n"
     ]
    }
   ],
   "source": [
    "d1={}\n",
    "for word in list1:\n",
    "    d1[word]=d1.get(word, 0) + 1\n",
    "print(d1)"
   ]
  },
  {
   "cell_type": "code",
   "execution_count": 13,
   "id": "38eeb754",
   "metadata": {},
   "outputs": [
    {
     "data": {
      "text/html": [
       "<div>\n",
       "<style scoped>\n",
       "    .dataframe tbody tr th:only-of-type {\n",
       "        vertical-align: middle;\n",
       "    }\n",
       "\n",
       "    .dataframe tbody tr th {\n",
       "        vertical-align: top;\n",
       "    }\n",
       "\n",
       "    .dataframe thead th {\n",
       "        text-align: right;\n",
       "    }\n",
       "</style>\n",
       "<table border=\"1\" class=\"dataframe\">\n",
       "  <thead>\n",
       "    <tr style=\"text-align: right;\">\n",
       "      <th></th>\n",
       "      <th>words</th>\n",
       "      <th>no of occurences</th>\n",
       "    </tr>\n",
       "  </thead>\n",
       "  <tbody>\n",
       "    <tr>\n",
       "      <th>0</th>\n",
       "      <td>Chandrayaan</td>\n",
       "      <td>2</td>\n",
       "    </tr>\n",
       "    <tr>\n",
       "      <th>1</th>\n",
       "      <td>3</td>\n",
       "      <td>2</td>\n",
       "    </tr>\n",
       "    <tr>\n",
       "      <th>2</th>\n",
       "      <td>spacecraft</td>\n",
       "      <td>2</td>\n",
       "    </tr>\n",
       "    <tr>\n",
       "      <th>3</th>\n",
       "      <td>is</td>\n",
       "      <td>1</td>\n",
       "    </tr>\n",
       "    <tr>\n",
       "      <th>4</th>\n",
       "      <td>the</td>\n",
       "      <td>3</td>\n",
       "    </tr>\n",
       "    <tr>\n",
       "      <th>5</th>\n",
       "      <td>rd</td>\n",
       "      <td>1</td>\n",
       "    </tr>\n",
       "    <tr>\n",
       "      <th>6</th>\n",
       "      <td>lunar</td>\n",
       "      <td>1</td>\n",
       "    </tr>\n",
       "    <tr>\n",
       "      <th>7</th>\n",
       "      <td>exploration</td>\n",
       "      <td>1</td>\n",
       "    </tr>\n",
       "    <tr>\n",
       "      <th>8</th>\n",
       "      <td>expedition</td>\n",
       "      <td>1</td>\n",
       "    </tr>\n",
       "    <tr>\n",
       "      <th>9</th>\n",
       "      <td>outlined</td>\n",
       "      <td>1</td>\n",
       "    </tr>\n",
       "    <tr>\n",
       "      <th>10</th>\n",
       "      <td>by</td>\n",
       "      <td>1</td>\n",
       "    </tr>\n",
       "    <tr>\n",
       "      <th>11</th>\n",
       "      <td>Indian</td>\n",
       "      <td>1</td>\n",
       "    </tr>\n",
       "    <tr>\n",
       "      <th>12</th>\n",
       "      <td>Space</td>\n",
       "      <td>1</td>\n",
       "    </tr>\n",
       "    <tr>\n",
       "      <th>13</th>\n",
       "      <td>Research</td>\n",
       "      <td>1</td>\n",
       "    </tr>\n",
       "    <tr>\n",
       "      <th>14</th>\n",
       "      <td>Organisation</td>\n",
       "      <td>1</td>\n",
       "    </tr>\n",
       "    <tr>\n",
       "      <th>15</th>\n",
       "      <td>ISRO</td>\n",
       "      <td>2</td>\n",
       "    </tr>\n",
       "    <tr>\n",
       "      <th>16</th>\n",
       "      <td>planned</td>\n",
       "      <td>1</td>\n",
       "    </tr>\n",
       "    <tr>\n",
       "      <th>17</th>\n",
       "      <td>this</td>\n",
       "      <td>1</td>\n",
       "    </tr>\n",
       "    <tr>\n",
       "      <th>18</th>\n",
       "      <td>to</td>\n",
       "      <td>2</td>\n",
       "    </tr>\n",
       "    <tr>\n",
       "      <th>19</th>\n",
       "      <td>exhibit</td>\n",
       "      <td>1</td>\n",
       "    </tr>\n",
       "    <tr>\n",
       "      <th>20</th>\n",
       "      <td>India’s</td>\n",
       "      <td>1</td>\n",
       "    </tr>\n",
       "    <tr>\n",
       "      <th>21</th>\n",
       "      <td>soft</td>\n",
       "      <td>1</td>\n",
       "    </tr>\n",
       "    <tr>\n",
       "      <th>22</th>\n",
       "      <td>landing</td>\n",
       "      <td>1</td>\n",
       "    </tr>\n",
       "    <tr>\n",
       "      <th>23</th>\n",
       "      <td>proficiency</td>\n",
       "      <td>1</td>\n",
       "    </tr>\n",
       "    <tr>\n",
       "      <th>24</th>\n",
       "      <td>on</td>\n",
       "      <td>1</td>\n",
       "    </tr>\n",
       "    <tr>\n",
       "      <th>25</th>\n",
       "      <td>a</td>\n",
       "      <td>2</td>\n",
       "    </tr>\n",
       "    <tr>\n",
       "      <th>26</th>\n",
       "      <td>stellar</td>\n",
       "      <td>1</td>\n",
       "    </tr>\n",
       "    <tr>\n",
       "      <th>27</th>\n",
       "      <td>body</td>\n",
       "      <td>1</td>\n",
       "    </tr>\n",
       "    <tr>\n",
       "      <th>28</th>\n",
       "      <td>It</td>\n",
       "      <td>1</td>\n",
       "    </tr>\n",
       "    <tr>\n",
       "      <th>29</th>\n",
       "      <td>will</td>\n",
       "      <td>2</td>\n",
       "    </tr>\n",
       "    <tr>\n",
       "      <th>30</th>\n",
       "      <td>only</td>\n",
       "      <td>1</td>\n",
       "    </tr>\n",
       "    <tr>\n",
       "      <th>31</th>\n",
       "      <td>consist</td>\n",
       "      <td>1</td>\n",
       "    </tr>\n",
       "    <tr>\n",
       "      <th>32</th>\n",
       "      <td>of</td>\n",
       "      <td>1</td>\n",
       "    </tr>\n",
       "    <tr>\n",
       "      <th>33</th>\n",
       "      <td>rover</td>\n",
       "      <td>1</td>\n",
       "    </tr>\n",
       "    <tr>\n",
       "      <th>34</th>\n",
       "      <td>and</td>\n",
       "      <td>2</td>\n",
       "    </tr>\n",
       "    <tr>\n",
       "      <th>35</th>\n",
       "      <td>lander</td>\n",
       "      <td>1</td>\n",
       "    </tr>\n",
       "    <tr>\n",
       "      <th>36</th>\n",
       "      <td>communicate</td>\n",
       "      <td>1</td>\n",
       "    </tr>\n",
       "    <tr>\n",
       "      <th>37</th>\n",
       "      <td>earth</td>\n",
       "      <td>1</td>\n",
       "    </tr>\n",
       "    <tr>\n",
       "      <th>38</th>\n",
       "      <td>via</td>\n",
       "      <td>1</td>\n",
       "    </tr>\n",
       "    <tr>\n",
       "      <th>39</th>\n",
       "      <td>an</td>\n",
       "      <td>1</td>\n",
       "    </tr>\n",
       "    <tr>\n",
       "      <th>40</th>\n",
       "      <td>orbiter</td>\n",
       "      <td>1</td>\n",
       "    </tr>\n",
       "    <tr>\n",
       "      <th>41</th>\n",
       "      <td>from</td>\n",
       "      <td>1</td>\n",
       "    </tr>\n",
       "  </tbody>\n",
       "</table>\n",
       "</div>"
      ],
      "text/plain": [
       "           words  no of occurences\n",
       "0    Chandrayaan                 2\n",
       "1              3                 2\n",
       "2     spacecraft                 2\n",
       "3             is                 1\n",
       "4            the                 3\n",
       "5             rd                 1\n",
       "6          lunar                 1\n",
       "7    exploration                 1\n",
       "8     expedition                 1\n",
       "9       outlined                 1\n",
       "10            by                 1\n",
       "11        Indian                 1\n",
       "12         Space                 1\n",
       "13      Research                 1\n",
       "14  Organisation                 1\n",
       "15          ISRO                 2\n",
       "16       planned                 1\n",
       "17          this                 1\n",
       "18            to                 2\n",
       "19       exhibit                 1\n",
       "20       India’s                 1\n",
       "21          soft                 1\n",
       "22       landing                 1\n",
       "23   proficiency                 1\n",
       "24            on                 1\n",
       "25             a                 2\n",
       "26       stellar                 1\n",
       "27          body                 1\n",
       "28            It                 1\n",
       "29          will                 2\n",
       "30          only                 1\n",
       "31       consist                 1\n",
       "32            of                 1\n",
       "33         rover                 1\n",
       "34           and                 2\n",
       "35        lander                 1\n",
       "36   communicate                 1\n",
       "37         earth                 1\n",
       "38           via                 1\n",
       "39            an                 1\n",
       "40       orbiter                 1\n",
       "41          from                 1"
      ]
     },
     "execution_count": 13,
     "metadata": {},
     "output_type": "execute_result"
    }
   ],
   "source": [
    "#step5 creating a dataframe with keys as word in 1st column and no of occurnces in 2nd column\n",
    "df=pd.DataFrame(list(d1.items()),columns=[\"words\",\"no of occurences\"])\n",
    "df"
   ]
  },
  {
   "cell_type": "markdown",
   "id": "4a9d5a3a",
   "metadata": {},
   "source": [
    "# 2nd example"
   ]
  },
  {
   "cell_type": "code",
   "execution_count": 20,
   "id": "b48abe80",
   "metadata": {},
   "outputs": [
    {
     "name": "stdout",
     "output_type": "stream",
     "text": [
      "The President of India is the ceremonial head of state of the country and supreme commander-in-chief for all defence forces in India.\n",
      "\n",
      "However, it is the Prime Minister of India, who is the leader of the party or political alliance having a majority in the national elections to the Lok Sabha. The Prime Minister is the leader of the executive branch of the Government of India. The Prime Minister is the chief adviser to the President of India and the head of the Union Council of Ministers.\n",
      "\n",
      "India is regionally divided into States (and Union Territories) and each State has a Governor who is the state's head, but the executive authority rests with the Chief Minister who is the leader of the party or political alliance that has won a majority in the regional elections otherwise known as State Assembly Elections that exercises executive powers in that State. The respective State's Chief Minister has executive powers within the State and works jointly with the Prime Minister of India or their ministers on matters that require both State and Central attention. Some Union Territories also elect an Assembly and have a territorial government and other (mainly smaller) Union Territories are governed by a person appointed by the President of India.\n",
      "\n",
      "The President of India monitors the rule of law through their appointed governors in each State and on their recommendation can take over the executive powers from the Chief Minister of the State, temporarily when the elected representatives of the State government has failed to create a peaceful environment and has deteriorated into chaos. The President of India dissolves the existing State government if necessary, and a new election is conducted.\n"
     ]
    }
   ],
   "source": [
    "paragraph= '''The President of India is the ceremonial head of state of the country and supreme commander-in-chief for all defence forces in India.\n",
    "\n",
    "However, it is the Prime Minister of India, who is the leader of the party or political alliance having a majority in the national elections to the Lok Sabha. The Prime Minister is the leader of the executive branch of the Government of India. The Prime Minister is the chief adviser to the President of India and the head of the Union Council of Ministers.\n",
    "\n",
    "India is regionally divided into States (and Union Territories) and each State has a Governor who is the state's head, but the executive authority rests with the Chief Minister who is the leader of the party or political alliance that has won a majority in the regional elections otherwise known as State Assembly Elections that exercises executive powers in that State. The respective State's Chief Minister has executive powers within the State and works jointly with the Prime Minister of India or their ministers on matters that require both State and Central attention. Some Union Territories also elect an Assembly and have a territorial government and other (mainly smaller) Union Territories are governed by a person appointed by the President of India.\n",
    "\n",
    "The President of India monitors the rule of law through their appointed governors in each State and on their recommendation can take over the executive powers from the Chief Minister of the State, temporarily when the elected representatives of the State government has failed to create a peaceful environment and has deteriorated into chaos. The President of India dissolves the existing State government if necessary, and a new election is conducted.'''\n",
    "\n",
    "print(paragraph)"
   ]
  },
  {
   "cell_type": "code",
   "execution_count": 21,
   "id": "9ded84b5",
   "metadata": {},
   "outputs": [
    {
     "name": "stdout",
     "output_type": "stream",
     "text": [
      "The President of India is the ceremonial head of state of the country and supreme commanderinchief for all defence forces in India\n",
      "\n",
      "However it is the Prime Minister of India who is the leader of the party or political alliance having a majority in the national elections to the Lok Sabha The Prime Minister is the leader of the executive branch of the Government of India The Prime Minister is the chief adviser to the President of India and the head of the Union Council of Ministers\n",
      "\n",
      "India is regionally divided into States and Union Territories and each State has a Governor who is the states head but the executive authority rests with the Chief Minister who is the leader of the party or political alliance that has won a majority in the regional elections otherwise known as State Assembly Elections that exercises executive powers in that State The respective States Chief Minister has executive powers within the State and works jointly with the Prime Minister of India or their ministers on matters that require both State and Central attention Some Union Territories also elect an Assembly and have a territorial government and other mainly smaller Union Territories are governed by a person appointed by the President of India\n",
      "\n",
      "The President of India monitors the rule of law through their appointed governors in each State and on their recommendation can take over the executive powers from the Chief Minister of the State temporarily when the elected representatives of the State government has failed to create a peaceful environment and has deteriorated into chaos The President of India dissolves the existing State government if necessary and a new election is conducted\n"
     ]
    }
   ],
   "source": [
    "remove_punctations=str.maketrans(\"\",\"\", string.punctuation)\n",
    "str2=paragraph.translate(remove_punctations)\n",
    "print(str2)"
   ]
  },
  {
   "cell_type": "code",
   "execution_count": 23,
   "id": "757a6ec9",
   "metadata": {},
   "outputs": [
    {
     "name": "stdout",
     "output_type": "stream",
     "text": [
      "['The', 'President', 'of', 'India', 'is', 'the', 'ceremonial', 'head', 'of', 'state', 'of', 'the', 'country', 'and', 'supreme', 'commanderinchief', 'for', 'all', 'defence', 'forces', 'in', 'India', 'However', 'it', 'is', 'the', 'Prime', 'Minister', 'of', 'India', 'who', 'is', 'the', 'leader', 'of', 'the', 'party', 'or', 'political', 'alliance', 'having', 'a', 'majority', 'in', 'the', 'national', 'elections', 'to', 'the', 'Lok', 'Sabha', 'The', 'Prime', 'Minister', 'is', 'the', 'leader', 'of', 'the', 'executive', 'branch', 'of', 'the', 'Government', 'of', 'India', 'The', 'Prime', 'Minister', 'is', 'the', 'chief', 'adviser', 'to', 'the', 'President', 'of', 'India', 'and', 'the', 'head', 'of', 'the', 'Union', 'Council', 'of', 'Ministers', 'India', 'is', 'regionally', 'divided', 'into', 'States', 'and', 'Union', 'Territories', 'and', 'each', 'State', 'has', 'a', 'Governor', 'who', 'is', 'the', 'states', 'head', 'but', 'the', 'executive', 'authority', 'rests', 'with', 'the', 'Chief', 'Minister', 'who', 'is', 'the', 'leader', 'of', 'the', 'party', 'or', 'political', 'alliance', 'that', 'has', 'won', 'a', 'majority', 'in', 'the', 'regional', 'elections', 'otherwise', 'known', 'as', 'State', 'Assembly', 'Elections', 'that', 'exercises', 'executive', 'powers', 'in', 'that', 'State', 'The', 'respective', 'States', 'Chief', 'Minister', 'has', 'executive', 'powers', 'within', 'the', 'State', 'and', 'works', 'jointly', 'with', 'the', 'Prime', 'Minister', 'of', 'India', 'or', 'their', 'ministers', 'on', 'matters', 'that', 'require', 'both', 'State', 'and', 'Central', 'attention', 'Some', 'Union', 'Territories', 'also', 'elect', 'an', 'Assembly', 'and', 'have', 'a', 'territorial', 'government', 'and', 'other', 'mainly', 'smaller', 'Union', 'Territories', 'are', 'governed', 'by', 'a', 'person', 'appointed', 'by', 'the', 'President', 'of', 'India', 'The', 'President', 'of', 'India', 'monitors', 'the', 'rule', 'of', 'law', 'through', 'their', 'appointed', 'governors', 'in', 'each', 'State', 'and', 'on', 'their', 'recommendation', 'can', 'take', 'over', 'the', 'executive', 'powers', 'from', 'the', 'Chief', 'Minister', 'of', 'the', 'State', 'temporarily', 'when', 'the', 'elected', 'representatives', 'of', 'the', 'State', 'government', 'has', 'failed', 'to', 'create', 'a', 'peaceful', 'environment', 'and', 'has', 'deteriorated', 'into', 'chaos', 'The', 'President', 'of', 'India', 'dissolves', 'the', 'existing', 'State', 'government', 'if', 'necessary', 'and', 'a', 'new', 'election', 'is', 'conducted']\n"
     ]
    }
   ],
   "source": [
    "l1=str2.split()\n",
    "print(l1)"
   ]
  },
  {
   "cell_type": "code",
   "execution_count": 24,
   "id": "0ed2cdf0",
   "metadata": {},
   "outputs": [
    {
     "name": "stdout",
     "output_type": "stream",
     "text": [
      "{'The': 6, 'President': 5, 'of': 19, 'India': 10, 'is': 9, 'the': 30, 'ceremonial': 1, 'head': 3, 'state': 1, 'country': 1, 'and': 11, 'supreme': 1, 'commanderinchief': 1, 'for': 1, 'all': 1, 'defence': 1, 'forces': 1, 'in': 5, 'However': 1, 'it': 1, 'Prime': 4, 'Minister': 7, 'who': 3, 'leader': 3, 'party': 2, 'or': 3, 'political': 2, 'alliance': 2, 'having': 1, 'a': 7, 'majority': 2, 'national': 1, 'elections': 2, 'to': 3, 'Lok': 1, 'Sabha': 1, 'executive': 5, 'branch': 1, 'Government': 1, 'chief': 1, 'adviser': 1, 'Union': 4, 'Council': 1, 'Ministers': 1, 'regionally': 1, 'divided': 1, 'into': 2, 'States': 2, 'Territories': 3, 'each': 2, 'State': 9, 'has': 5, 'Governor': 1, 'states': 1, 'but': 1, 'authority': 1, 'rests': 1, 'with': 2, 'Chief': 3, 'that': 4, 'won': 1, 'regional': 1, 'otherwise': 1, 'known': 1, 'as': 1, 'Assembly': 2, 'Elections': 1, 'exercises': 1, 'powers': 3, 'respective': 1, 'within': 1, 'works': 1, 'jointly': 1, 'their': 3, 'ministers': 1, 'on': 2, 'matters': 1, 'require': 1, 'both': 1, 'Central': 1, 'attention': 1, 'Some': 1, 'also': 1, 'elect': 1, 'an': 1, 'have': 1, 'territorial': 1, 'government': 3, 'other': 1, 'mainly': 1, 'smaller': 1, 'are': 1, 'governed': 1, 'by': 2, 'person': 1, 'appointed': 2, 'monitors': 1, 'rule': 1, 'law': 1, 'through': 1, 'governors': 1, 'recommendation': 1, 'can': 1, 'take': 1, 'over': 1, 'from': 1, 'temporarily': 1, 'when': 1, 'elected': 1, 'representatives': 1, 'failed': 1, 'create': 1, 'peaceful': 1, 'environment': 1, 'deteriorated': 1, 'chaos': 1, 'dissolves': 1, 'existing': 1, 'if': 1, 'necessary': 1, 'new': 1, 'election': 1, 'conducted': 1}\n"
     ]
    }
   ],
   "source": [
    "d1={}\n",
    "for word in l1:\n",
    "    d1[word]=d1.get(word, 0) + 1\n",
    "print(d1)"
   ]
  },
  {
   "cell_type": "code",
   "execution_count": 27,
   "id": "15c2f579",
   "metadata": {},
   "outputs": [
    {
     "data": {
      "text/html": [
       "<div>\n",
       "<style scoped>\n",
       "    .dataframe tbody tr th:only-of-type {\n",
       "        vertical-align: middle;\n",
       "    }\n",
       "\n",
       "    .dataframe tbody tr th {\n",
       "        vertical-align: top;\n",
       "    }\n",
       "\n",
       "    .dataframe thead th {\n",
       "        text-align: right;\n",
       "    }\n",
       "</style>\n",
       "<table border=\"1\" class=\"dataframe\">\n",
       "  <thead>\n",
       "    <tr style=\"text-align: right;\">\n",
       "      <th></th>\n",
       "      <th>words</th>\n",
       "      <th>no of occurences</th>\n",
       "    </tr>\n",
       "  </thead>\n",
       "  <tbody>\n",
       "    <tr>\n",
       "      <th>0</th>\n",
       "      <td>The</td>\n",
       "      <td>6</td>\n",
       "    </tr>\n",
       "    <tr>\n",
       "      <th>1</th>\n",
       "      <td>President</td>\n",
       "      <td>5</td>\n",
       "    </tr>\n",
       "    <tr>\n",
       "      <th>2</th>\n",
       "      <td>of</td>\n",
       "      <td>19</td>\n",
       "    </tr>\n",
       "    <tr>\n",
       "      <th>3</th>\n",
       "      <td>India</td>\n",
       "      <td>10</td>\n",
       "    </tr>\n",
       "    <tr>\n",
       "      <th>4</th>\n",
       "      <td>is</td>\n",
       "      <td>9</td>\n",
       "    </tr>\n",
       "    <tr>\n",
       "      <th>...</th>\n",
       "      <td>...</td>\n",
       "      <td>...</td>\n",
       "    </tr>\n",
       "    <tr>\n",
       "      <th>118</th>\n",
       "      <td>if</td>\n",
       "      <td>1</td>\n",
       "    </tr>\n",
       "    <tr>\n",
       "      <th>119</th>\n",
       "      <td>necessary</td>\n",
       "      <td>1</td>\n",
       "    </tr>\n",
       "    <tr>\n",
       "      <th>120</th>\n",
       "      <td>new</td>\n",
       "      <td>1</td>\n",
       "    </tr>\n",
       "    <tr>\n",
       "      <th>121</th>\n",
       "      <td>election</td>\n",
       "      <td>1</td>\n",
       "    </tr>\n",
       "    <tr>\n",
       "      <th>122</th>\n",
       "      <td>conducted</td>\n",
       "      <td>1</td>\n",
       "    </tr>\n",
       "  </tbody>\n",
       "</table>\n",
       "<p>123 rows × 2 columns</p>\n",
       "</div>"
      ],
      "text/plain": [
       "         words  no of occurences\n",
       "0          The                 6\n",
       "1    President                 5\n",
       "2           of                19\n",
       "3        India                10\n",
       "4           is                 9\n",
       "..         ...               ...\n",
       "118         if                 1\n",
       "119  necessary                 1\n",
       "120        new                 1\n",
       "121   election                 1\n",
       "122  conducted                 1\n",
       "\n",
       "[123 rows x 2 columns]"
      ]
     },
     "execution_count": 27,
     "metadata": {},
     "output_type": "execute_result"
    }
   ],
   "source": [
    "df=pd.DataFrame(list(d1.items()), columns=[\"words\", \"no of occurences\"])\n",
    "df"
   ]
  },
  {
   "cell_type": "code",
   "execution_count": null,
   "id": "7e1129a0",
   "metadata": {},
   "outputs": [],
   "source": []
  }
 ],
 "metadata": {
  "kernelspec": {
   "display_name": "Python 3 (ipykernel)",
   "language": "python",
   "name": "python3"
  },
  "language_info": {
   "codemirror_mode": {
    "name": "ipython",
    "version": 3
   },
   "file_extension": ".py",
   "mimetype": "text/x-python",
   "name": "python",
   "nbconvert_exporter": "python",
   "pygments_lexer": "ipython3",
   "version": "3.10.9"
  }
 },
 "nbformat": 4,
 "nbformat_minor": 5
}
