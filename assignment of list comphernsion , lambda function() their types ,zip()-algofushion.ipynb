{
 "cells": [
  {
   "cell_type": "markdown",
   "id": "4166648b",
   "metadata": {},
   "source": [
    "# Illustrating various concepts"
   ]
  },
  {
   "cell_type": "code",
   "execution_count": 5,
   "id": "52da68f9",
   "metadata": {},
   "outputs": [
    {
     "name": "stdout",
     "output_type": "stream",
     "text": [
      "[2, 4, 6, 8]\n"
     ]
    }
   ],
   "source": [
    "#LList comphernsion with if condition\n",
    "numbers=[1,2,3,4,5,6,7,8]\n",
    "even_numbers=[num for num in numbers if num%2==0]\n",
    "print(even_numbers)"
   ]
  },
  {
   "cell_type": "code",
   "execution_count": 10,
   "id": "eeb13f52",
   "metadata": {},
   "outputs": [
    {
     "name": "stdout",
     "output_type": "stream",
     "text": [
      "10\n"
     ]
    }
   ],
   "source": [
    "#lambda function\n",
    "addition= lambda x, y: x+y \n",
    "print(addition(4, 6))"
   ]
  },
  {
   "cell_type": "code",
   "execution_count": 11,
   "id": "b1e45992",
   "metadata": {},
   "outputs": [
    {
     "name": "stdout",
     "output_type": "stream",
     "text": [
      "4\n"
     ]
    }
   ],
   "source": [
    "z= lambda x, y: x-y\n",
    "print(z(9,5))"
   ]
  },
  {
   "cell_type": "code",
   "execution_count": 12,
   "id": "1563a4a0",
   "metadata": {},
   "outputs": [
    {
     "name": "stdout",
     "output_type": "stream",
     "text": [
      "20\n"
     ]
    }
   ],
   "source": [
    "x= lambda y: 5*y\n",
    "print(x(4))"
   ]
  },
  {
   "cell_type": "code",
   "execution_count": 20,
   "id": "6cbf726b",
   "metadata": {},
   "outputs": [],
   "source": [
    "#lambda function with map(),filter(), reduce()\n",
    "numbers=[2,3,4,5,6,7]\n",
    "multiply_numbers=list(map(lambda y: y*2, numbers))"
   ]
  },
  {
   "cell_type": "code",
   "execution_count": 21,
   "id": "c011c159",
   "metadata": {},
   "outputs": [
    {
     "data": {
      "text/plain": [
       "[4, 6, 8, 10, 12, 14]"
      ]
     },
     "execution_count": 21,
     "metadata": {},
     "output_type": "execute_result"
    }
   ],
   "source": [
    "multiply_numbers"
   ]
  },
  {
   "cell_type": "code",
   "execution_count": 30,
   "id": "fc8233c1",
   "metadata": {},
   "outputs": [
    {
     "data": {
      "text/plain": [
       "[3, 5, 7]"
      ]
     },
     "execution_count": 30,
     "metadata": {},
     "output_type": "execute_result"
    }
   ],
   "source": [
    "odd_numbers=list(filter(lambda x: x%2!=0, numbers))\n",
    "odd_numbers"
   ]
  },
  {
   "cell_type": "code",
   "execution_count": 27,
   "id": "225c8b8c",
   "metadata": {},
   "outputs": [],
   "source": [
    "from functools import reduce"
   ]
  },
  {
   "cell_type": "code",
   "execution_count": 31,
   "id": "367416fb",
   "metadata": {},
   "outputs": [
    {
     "data": {
      "text/plain": [
       "27"
      ]
     },
     "execution_count": 31,
     "metadata": {},
     "output_type": "execute_result"
    }
   ],
   "source": [
    "sum_numbers=reduce(lambda x,y:x+y, numbers)\n",
    "sum_numbers"
   ]
  },
  {
   "cell_type": "code",
   "execution_count": 1,
   "id": "4373caa9",
   "metadata": {},
   "outputs": [
    {
     "data": {
      "text/plain": [
       "{'praveen': 2, 'ranjith': 4, 'sandeep': 5, 'dileep': 6}"
      ]
     },
     "execution_count": 1,
     "metadata": {},
     "output_type": "execute_result"
    }
   ],
   "source": [
    "#use of zip() function\n",
    "x=['praveen','ranjith','sandeep','dileep']\n",
    "y=[2,4,5,6]\n",
    "names_numbers={key:value for key ,value in zip(x,y)}\n",
    "names_numbers"
   ]
  },
  {
   "cell_type": "code",
   "execution_count": null,
   "id": "d168a308",
   "metadata": {},
   "outputs": [],
   "source": []
  }
 ],
 "metadata": {
  "kernelspec": {
   "display_name": "Python 3 (ipykernel)",
   "language": "python",
   "name": "python3"
  },
  "language_info": {
   "codemirror_mode": {
    "name": "ipython",
    "version": 3
   },
   "file_extension": ".py",
   "mimetype": "text/x-python",
   "name": "python",
   "nbconvert_exporter": "python",
   "pygments_lexer": "ipython3",
   "version": "3.10.9"
  }
 },
 "nbformat": 4,
 "nbformat_minor": 5
}
